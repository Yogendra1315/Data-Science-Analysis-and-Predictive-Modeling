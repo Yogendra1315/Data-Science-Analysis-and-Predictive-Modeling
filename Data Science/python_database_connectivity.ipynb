{
 "cells": [
  {
   "cell_type": "code",
   "execution_count": 7,
   "id": "f0290f0b",
   "metadata": {},
   "outputs": [],
   "source": [
    "import pymysql as sql"
   ]
  },
  {
   "cell_type": "code",
   "execution_count": 3,
   "id": "e066b53f",
   "metadata": {},
   "outputs": [],
   "source": [
    "db=sql.connect(host='localhost',user='root',password='passwd',port=3306)"
   ]
  },
  {
   "cell_type": "code",
   "execution_count": 4,
   "id": "2e034a62",
   "metadata": {},
   "outputs": [
    {
     "name": "stdout",
     "output_type": "stream",
     "text": [
      "<pymysql.connections.Connection object at 0x7fa5544ea0e0>\n"
     ]
    }
   ],
   "source": [
    "print(db)"
   ]
  },
  {
   "cell_type": "code",
   "execution_count": 6,
   "id": "31c2c13f",
   "metadata": {},
   "outputs": [],
   "source": [
    "cur=db.cursor()"
   ]
  },
  {
   "cell_type": "code",
   "execution_count": 7,
   "id": "d0b86463",
   "metadata": {},
   "outputs": [
    {
     "data": {
      "text/plain": [
       "5"
      ]
     },
     "execution_count": 7,
     "metadata": {},
     "output_type": "execute_result"
    }
   ],
   "source": [
    "cur.execute('show databases')"
   ]
  },
  {
   "cell_type": "code",
   "execution_count": 8,
   "id": "ef02a838",
   "metadata": {},
   "outputs": [
    {
     "data": {
      "text/plain": [
       "(('arya_ds',),\n",
       " ('information_schema',),\n",
       " ('mysql',),\n",
       " ('performance_schema',),\n",
       " ('sys',))"
      ]
     },
     "execution_count": 8,
     "metadata": {},
     "output_type": "execute_result"
    }
   ],
   "source": [
    "cur.fetchall()"
   ]
  },
  {
   "cell_type": "code",
   "execution_count": 9,
   "id": "756791ff",
   "metadata": {},
   "outputs": [
    {
     "data": {
      "text/plain": [
       "0"
      ]
     },
     "execution_count": 9,
     "metadata": {},
     "output_type": "execute_result"
    }
   ],
   "source": [
    "cur.execute('use arya_ds')"
   ]
  },
  {
   "cell_type": "code",
   "execution_count": 10,
   "id": "65193a92",
   "metadata": {},
   "outputs": [
    {
     "data": {
      "text/plain": [
       "(('address',),\n",
       " ('fees',),\n",
       " ('filter_fees',),\n",
       " ('new',),\n",
       " ('person',),\n",
       " ('Student',))"
      ]
     },
     "execution_count": 10,
     "metadata": {},
     "output_type": "execute_result"
    }
   ],
   "source": [
    "cur.execute('show tables')\n",
    "cur.fetchall()"
   ]
  },
  {
   "cell_type": "code",
   "execution_count": 11,
   "id": "1dc12834",
   "metadata": {},
   "outputs": [
    {
     "data": {
      "text/plain": [
       "((1, 'Aman', 25),\n",
       " (2, 'Simran', 26),\n",
       " (3, 'Ram', 24),\n",
       " (4, 'Yogendra', 20),\n",
       " (5, 'Tushar', 20),\n",
       " (6, 'Yash', 21),\n",
       " (7, 'Vishal', 19),\n",
       " (8, 'Kartik', 21),\n",
       " (9, 'Piyush', 22),\n",
       " (10, 'Rahul', 18))"
      ]
     },
     "execution_count": 11,
     "metadata": {},
     "output_type": "execute_result"
    }
   ],
   "source": [
    "cur.execute('select * from Student')\n",
    "cur.fetchall()"
   ]
  },
  {
   "cell_type": "code",
   "execution_count": 12,
   "id": "083b5c2e",
   "metadata": {},
   "outputs": [],
   "source": [
    "db.close()"
   ]
  },
  {
   "cell_type": "code",
   "execution_count": 8,
   "id": "5226e2b3",
   "metadata": {},
   "outputs": [],
   "source": [
    "db=sql.connect(host='localhost',user='root',password='passwd',port=3306)"
   ]
  },
  {
   "cell_type": "code",
   "execution_count": 9,
   "id": "8f227024",
   "metadata": {},
   "outputs": [
    {
     "name": "stdout",
     "output_type": "stream",
     "text": [
      "<pymysql.connections.Connection object at 0x7f7fc4e29810>\n"
     ]
    }
   ],
   "source": [
    "print(db)\n",
    "cur=db.cursor()"
   ]
  },
  {
   "cell_type": "code",
   "execution_count": 10,
   "id": "03970741",
   "metadata": {},
   "outputs": [
    {
     "data": {
      "text/plain": [
       "[]"
      ]
     },
     "execution_count": 10,
     "metadata": {},
     "output_type": "execute_result"
    }
   ],
   "source": [
    "cur.execute('use arya_ds')\n",
    "cur.fetchall()\n",
    "cur.execute('create table arya(sid int(3),name varchar(10),age int(3))')\n",
    "cur.fetchall()\n",
    "cur.execute('desc arya')\n",
    "cur.fetchall()\n",
    "cur.execute('insert into arya values(1,\"yogendra\",20)')\n",
    "cur.fetchall()"
   ]
  },
  {
   "cell_type": "code",
   "execution_count": 11,
   "id": "dd89c4f4",
   "metadata": {},
   "outputs": [
    {
     "data": {
      "text/plain": [
       "((1, 'yogendra', 20),)"
      ]
     },
     "execution_count": 11,
     "metadata": {},
     "output_type": "execute_result"
    }
   ],
   "source": [
    "cur.execute('select * from arya')\n",
    "cur.fetchall()"
   ]
  },
  {
   "cell_type": "code",
   "execution_count": null,
   "id": "d2187183",
   "metadata": {},
   "outputs": [],
   "source": []
  }
 ],
 "metadata": {
  "kernelspec": {
   "display_name": "Python 3 (ipykernel)",
   "language": "python",
   "name": "python3"
  },
  "language_info": {
   "codemirror_mode": {
    "name": "ipython",
    "version": 3
   },
   "file_extension": ".py",
   "mimetype": "text/x-python",
   "name": "python",
   "nbconvert_exporter": "python",
   "pygments_lexer": "ipython3",
   "version": "3.10.9"
  }
 },
 "nbformat": 4,
 "nbformat_minor": 5
}
