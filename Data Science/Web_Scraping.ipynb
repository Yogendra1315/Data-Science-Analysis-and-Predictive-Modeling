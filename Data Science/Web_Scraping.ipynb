{
 "cells": [
  {
   "cell_type": "code",
   "execution_count": 1,
   "id": "ebb4d722",
   "metadata": {},
   "outputs": [],
   "source": [
    "import pandas as pd\n",
    "import requests\n",
    "import numpy as np\n",
    "from bs4 import BeautifulSoup"
   ]
  },
  {
   "cell_type": "code",
   "execution_count": 2,
   "id": "e25e7b19",
   "metadata": {},
   "outputs": [],
   "source": [
    "headers={'User-Agent':'Mozilla/5.0(Windows NT 6.3;Win 64;x64)Apple Wekit/537.36(KHTML,like Gecko)Chrome/80.0.3987.162 Safari/537.36'}\n"
   ]
  },
  {
   "cell_type": "code",
   "execution_count": 33,
   "id": "02f33a23",
   "metadata": {},
   "outputs": [],
   "source": [
    "i=int(1)\n",
    "df1=pd.DataFrame(columns=['Name Of Company','Rating','salary','Job','benefits','photos'])\n",
    "while i < 10:\n",
    "    webpage=requests.get(f'https://www.ambitionbox.com/list-of-companies?campaign=desktop_nav&page={i}',headers=headers).text\n",
    "    soup=BeautifulSoup(webpage,'lxml')\n",
    "    name=[]\n",
    "    review=[]\n",
    "    rating=[]\n",
    "    salary=[]\n",
    "    job=[]\n",
    "    photos=[]\n",
    "    interviews=[]\n",
    "    benefits=[]\n",
    "    z=[]\n",
    "    k=0\n",
    "    company=soup.find_all('div',class_=\"companyCardWrapper\")\n",
    "    for x in company:\n",
    "        name.append(x.find('h2').text.strip())\n",
    "    for x in soup.find_all('span',class_='companyCardWrapper__ActionCount'):\n",
    "        z.append(x.text.strip())\n",
    "    for x in soup.find_all('span',class_='companyCardWrapper__companyRatingValue'):\n",
    "        rating.append(x.text.strip())\n",
    "    while k<len(z):\n",
    "        review.append(z[k])\n",
    "        salary.append(z[k+1])\n",
    "        interviews.append(z[k+2])\n",
    "        job.append(z[k+3])\n",
    "        benefits.append(z[k+4])\n",
    "        photos.append(z[k+5])\n",
    "        k=k+6\n",
    "    i=i+1\n",
    "    df=pd.DataFrame({'Name Of Company': name,\n",
    "                'Rating':rating,\n",
    "                 'Review': review,\n",
    "                 'salary':salary,\n",
    "                 'Job':job,\n",
    "                 'benefits':benefits,\n",
    "                 'photos':photos\n",
    "                \n",
    "                })\n",
    "\n",
    "    df1=pd.concat([df1,df],ignore_index=True)\n"
   ]
  },
  {
   "cell_type": "code",
   "execution_count": 34,
   "id": "50747969",
   "metadata": {},
   "outputs": [
    {
     "data": {
      "text/plain": [
       "(180, 7)"
      ]
     },
     "execution_count": 34,
     "metadata": {},
     "output_type": "execute_result"
    }
   ],
   "source": [
    "df1.shape"
   ]
  },
  {
   "cell_type": "code",
   "execution_count": 35,
   "id": "8bf4bd37",
   "metadata": {},
   "outputs": [],
   "source": [
    "df1.to_csv('company.csv')"
   ]
  },
  {
   "cell_type": "code",
   "execution_count": null,
   "id": "57c43dc9",
   "metadata": {},
   "outputs": [],
   "source": []
  }
 ],
 "metadata": {
  "kernelspec": {
   "display_name": "Python 3 (ipykernel)",
   "language": "python",
   "name": "python3"
  },
  "language_info": {
   "codemirror_mode": {
    "name": "ipython",
    "version": 3
   },
   "file_extension": ".py",
   "mimetype": "text/x-python",
   "name": "python",
   "nbconvert_exporter": "python",
   "pygments_lexer": "ipython3",
   "version": "3.9.13"
  }
 },
 "nbformat": 4,
 "nbformat_minor": 5
}
